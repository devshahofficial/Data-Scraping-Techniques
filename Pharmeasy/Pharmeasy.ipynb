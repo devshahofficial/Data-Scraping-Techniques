{
 "cells": [
  {
   "cell_type": "code",
   "execution_count": 124,
   "id": "83a7ba84",
   "metadata": {},
   "outputs": [],
   "source": [
    "import json\n",
    "import requests\n",
    "import csv\n",
    "\n",
    "categoryApiUrl = \"https://api.pharmeasy.in/v3/ecommerce/categories/otc-categories\"\n",
    "headers = json.load(open(\"headers.json\"))"
   ]
  },
  {
   "cell_type": "code",
   "execution_count": 125,
   "id": "612ece04",
   "metadata": {},
   "outputs": [],
   "source": [
    "temp = requests.get(categoryApiUrl, headers = headers)"
   ]
  },
  {
   "cell_type": "code",
   "execution_count": 126,
   "id": "11f55267",
   "metadata": {},
   "outputs": [],
   "source": [
    "parsedResponse = temp.json()"
   ]
  },
  {
   "cell_type": "code",
   "execution_count": 127,
   "id": "a2dfa106",
   "metadata": {},
   "outputs": [],
   "source": [
    "categoryIdArray = []"
   ]
  },
  {
   "cell_type": "code",
   "execution_count": 128,
   "id": "ef19f2e9",
   "metadata": {},
   "outputs": [],
   "source": [
    "for i in range(0,len(parsedResponse['data'][\"parent_categories\"])):\n",
    "    for j in range(0,len(parsedResponse['data'][\"parent_categories\"][i]['leaf_categories'])):\n",
    "        categoryIdArray.append(parsedResponse['data'][\"parent_categories\"][i]['leaf_categories'][j]['id'])"
   ]
  },
  {
   "cell_type": "code",
   "execution_count": 129,
   "id": "abe7917c",
   "metadata": {},
   "outputs": [
    {
     "data": {
      "text/plain": [
       "129"
      ]
     },
     "execution_count": 129,
     "metadata": {},
     "output_type": "execute_result"
    }
   ],
   "source": [
    "len(categoryIdArray)"
   ]
  },
  {
   "cell_type": "code",
   "execution_count": 130,
   "id": "cc4ce8f5",
   "metadata": {},
   "outputs": [
    {
     "data": {
      "text/plain": [
       "[875,\n",
       " 873,\n",
       " 871,\n",
       " 874,\n",
       " 876,\n",
       " 872,\n",
       " 900,\n",
       " 902,\n",
       " 903,\n",
       " 1053,\n",
       " 641,\n",
       " 980,\n",
       " 646,\n",
       " 1052,\n",
       " 946,\n",
       " 647,\n",
       " 1130,\n",
       " 96,\n",
       " 215,\n",
       " 99,\n",
       " 98,\n",
       " 97,\n",
       " 95,\n",
       " 94,\n",
       " 192,\n",
       " 730,\n",
       " 889,\n",
       " 892,\n",
       " 733,\n",
       " 731,\n",
       " 732,\n",
       " 762,\n",
       " 946,\n",
       " 1071,\n",
       " 1077,\n",
       " 1072,\n",
       " 395,\n",
       " 394,\n",
       " 566,\n",
       " 374,\n",
       " 372,\n",
       " 375,\n",
       " 616,\n",
       " 615,\n",
       " 620,\n",
       " 978,\n",
       " 1052,\n",
       " 1094,\n",
       " 813,\n",
       " 647,\n",
       " 816,\n",
       " 827,\n",
       " 823,\n",
       " 819,\n",
       " 1029,\n",
       " 137,\n",
       " 8793,\n",
       " 713,\n",
       " 442,\n",
       " 445,\n",
       " 947,\n",
       " 1050,\n",
       " 448,\n",
       " 450,\n",
       " 507,\n",
       " 443,\n",
       " 1051,\n",
       " 948,\n",
       " 451,\n",
       " 444,\n",
       " 446,\n",
       " 716,\n",
       " 392,\n",
       " 590,\n",
       " 596,\n",
       " 354,\n",
       " 944,\n",
       " 274,\n",
       " 115,\n",
       " 889,\n",
       " 113,\n",
       " 112,\n",
       " 213,\n",
       " 214,\n",
       " 111,\n",
       " 114,\n",
       " 677,\n",
       " 892,\n",
       " 194,\n",
       " 692,\n",
       " 690,\n",
       " 1058,\n",
       " 677,\n",
       " 905,\n",
       " 422,\n",
       " 423,\n",
       " 908,\n",
       " 907,\n",
       " 419,\n",
       " 420,\n",
       " 681,\n",
       " 685,\n",
       " 688,\n",
       " 977,\n",
       " 150,\n",
       " 149,\n",
       " 148,\n",
       " 147,\n",
       " 146,\n",
       " 738,\n",
       " 202,\n",
       " 738,\n",
       " 743,\n",
       " 958,\n",
       " 745,\n",
       " 741,\n",
       " 740,\n",
       " 1006,\n",
       " 776,\n",
       " 770,\n",
       " 774,\n",
       " 958,\n",
       " 772,\n",
       " 738,\n",
       " 779,\n",
       " 1010,\n",
       " 378,\n",
       " 381,\n",
       " 382]"
      ]
     },
     "execution_count": 130,
     "metadata": {},
     "output_type": "execute_result"
    }
   ],
   "source": [
    "categoryIdArray"
   ]
  },
  {
   "cell_type": "code",
   "execution_count": null,
   "id": "310b7b48",
   "metadata": {},
   "outputs": [],
   "source": []
  },
  {
   "cell_type": "code",
   "execution_count": null,
   "id": "9140d5d0",
   "metadata": {},
   "outputs": [],
   "source": []
  },
  {
   "cell_type": "code",
   "execution_count": 135,
   "id": "c9d196ff",
   "metadata": {},
   "outputs": [],
   "source": [
    "def __scraper__():\n",
    "    pageNumber = 1\n",
    "    categorySerialNumber = 0\n",
    "    productApiUrl = \"https://api.pharmeasy.in/v3/ecommerce/categories/fetch-products?paginated=1&page=\"+str(pageNumber)+\"&categoryId=\"+str(categoryIdArray[categorySerialNumber])+\"&page_id=p_home_9128994b-b2be-4e99-803c-28fccfebd6ba&key:page:source=p_home\"\n",
    "    \n",
    "    parsedResponse = requests.get(productApiUrl, headers = headers).json()\n",
    "    products = parsedResponse['data']['products']\n",
    "    field_names = parsedResponse['data']['products'][0].keys()\n",
    "\n",
    "    \n",
    "    while categorySerialNumber < 129:\n",
    "        while len(products) != 0 and pageNumber < 3:\n",
    "            \n",
    "            for i in range(0, len(products)):\n",
    "                data = [products[i]]\n",
    "                with open('Pharmeasy.csv', 'a', encoding=\"utf-8\") as csvfile:\n",
    "                    writer = csv.DictWriter(csvfile, fieldnames=field_names)\n",
    "                    writer.writerows(data)\n",
    "            pageNumber = pageNumber + 1\n",
    "        pageNumber = 1\n",
    "        categorySerialNumber = categorySerialNumber + 1\n",
    "    \n",
    "    \n",
    "    \n",
    "    \n",
    "    \n",
    "    "
   ]
  },
  {
   "cell_type": "code",
   "execution_count": null,
   "id": "86efa6fc",
   "metadata": {},
   "outputs": [],
   "source": []
  },
  {
   "cell_type": "code",
   "execution_count": 136,
   "id": "6ac65ed5",
   "metadata": {},
   "outputs": [],
   "source": [
    "__scraper__()"
   ]
  },
  {
   "cell_type": "code",
   "execution_count": null,
   "id": "cf983da3",
   "metadata": {},
   "outputs": [],
   "source": []
  },
  {
   "cell_type": "code",
   "execution_count": null,
   "id": "361752f2",
   "metadata": {},
   "outputs": [],
   "source": []
  },
  {
   "cell_type": "code",
   "execution_count": 133,
   "id": "9d30fd41",
   "metadata": {},
   "outputs": [],
   "source": [
    "productApiUrl = \"https://api.pharmeasy.in/v3/ecommerce/categories/fetch-products?paginated=1&page=\"+str(1)+\"&categoryId=\"+str(875)+\"&page_id=p_home_9128994b-b2be-4e99-803c-28fccfebd6ba&key:page:source=p_home\"\n",
    "    \n",
    "parsedResponse = requests.get(productApiUrl, headers = headers).json()\n",
    "products = parsedResponse['data']['products']\n",
    "field_names = parsedResponse['data']['products'][0].keys()"
   ]
  },
  {
   "cell_type": "code",
   "execution_count": 134,
   "id": "8f3629c8",
   "metadata": {},
   "outputs": [
    {
     "data": {
      "text/plain": [
       "dict_keys(['productId', 'name', 'slug', 'manufacturer', 'productType', 'mrpDecimal', 'salePriceDecimal', 'discountDecimal', 'discountPercent', 'categoryId', 'damImages', 'labelDetails', 'ratingDetails', 'productTierAttributes', 'productSubstitutionAttributes', 'productAvailabilityFlags', 'maxQuantity', 'productVolume', 'similarProductsAttributes', 'isAvailable', 'images'])"
      ]
     },
     "execution_count": 134,
     "metadata": {},
     "output_type": "execute_result"
    }
   ],
   "source": [
    "field_names"
   ]
  }
 ],
 "metadata": {
  "kernelspec": {
   "display_name": "Python 3 (ipykernel)",
   "language": "python",
   "name": "python3"
  },
  "language_info": {
   "codemirror_mode": {
    "name": "ipython",
    "version": 3
   },
   "file_extension": ".py",
   "mimetype": "text/x-python",
   "name": "python",
   "nbconvert_exporter": "python",
   "pygments_lexer": "ipython3",
   "version": "3.7.8rc1"
  }
 },
 "nbformat": 4,
 "nbformat_minor": 5
}
